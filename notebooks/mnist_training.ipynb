{
 "cells": [
  {
   "cell_type": "code",
   "execution_count": 15,
   "metadata": {},
   "outputs": [
    {
     "name": "stderr",
     "output_type": "stream",
     "text": [
      "100%|██████████| 9.91M/9.91M [00:05<00:00, 1.65MB/s]\n",
      "100%|██████████| 28.9k/28.9k [00:00<00:00, 67.9kB/s]\n",
      "100%|██████████| 1.65M/1.65M [00:02<00:00, 602kB/s] \n",
      "100%|██████████| 4.54k/4.54k [00:00<00:00, 1.26MB/s]"
     ]
    },
    {
     "name": "stdout",
     "output_type": "stream",
     "text": [
      "Training samples: 60000, Test samples: 10000\n"
     ]
    },
    {
     "name": "stderr",
     "output_type": "stream",
     "text": [
      "\n"
     ]
    }
   ],
   "source": [
    "import torch\n",
    "from torchvision import datasets, transforms\n",
    "\n",
    "# transform images to tensors\n",
    "transform = transforms.Compose([transforms.ToTensor()])\n",
    "\n",
    "# Download training and test dataset\n",
    "train_dataset = datasets.MNIST(root='../data/', train=True, download=True, transform=transform)\n",
    "test_dataset = datasets.MNIST(root='../data/', train=False, download=True, transform=transform)\n",
    "\n",
    "print(f\"Training samples: {len(train_dataset)}, Test samples: {len(test_dataset)}\")\n"
   ]
  },
  {
   "cell_type": "markdown",
   "metadata": {},
   "source": [
    "## Import Libraries"
   ]
  },
  {
   "cell_type": "code",
   "execution_count": 2,
   "metadata": {},
   "outputs": [],
   "source": [
    "import torch            # main PyTorch library\n",
    "import torch.nn as nn   # neural network module\n",
    "import torch.nn.functional as F     # functional interface\n",
    "from torch.utils.data import DataLoader     # data loading utilities"
   ]
  },
  {
   "cell_type": "markdown",
   "metadata": {},
   "source": [
    "## Set Hyperparameters"
   ]
  },
  {
   "cell_type": "code",
   "execution_count": 3,
   "metadata": {},
   "outputs": [],
   "source": [
    "batch_size=64               # number of samples per batch\n",
    "learning_rate = 0.01        # step size for optimizer\n",
    "epochs = 3          # number of times the model sees the entire dataset"
   ]
  },
  {
   "cell_type": "markdown",
   "metadata": {},
   "source": [
    "## Create Data Loaders"
   ]
  },
  {
   "cell_type": "code",
   "execution_count": 4,
   "metadata": {},
   "outputs": [],
   "source": [
    "train_loader=DataLoader(train_dataset, batch_size=batch_size, shuffle=True)     # iterates over training data in batches\n",
    "test_loader=DataLoader(test_dataset, batch_size=batch_size, shuffle = False)       # iterates over test data in batches"
   ]
  },
  {
   "cell_type": "markdown",
   "metadata": {},
   "source": [
    "## Define Neural Network"
   ]
  },
  {
   "cell_type": "code",
   "execution_count": 5,
   "metadata": {},
   "outputs": [],
   "source": [
    "class SimpleNN(nn.Module):\n",
    "    def __init__(self):\n",
    "        super(SimpleNN, self).__init__()\n",
    "        self.fc1 = nn.Linear(28*28, 128)\n",
    "        self.fc2 = nn.Linear(128, 64)\n",
    "        self.fc3 = nn.Linear(64, 10)\n",
    "\n",
    "    def forward(self, x):                   # defines how input moves through layers\n",
    "        x = x.view(-1, 28*28)               # flatten 28x28 images to 784\n",
    "        x = F.relu(self.fc1(x))             # activation function introducing non-linearity\n",
    "        x = F.relu(self.fc2(x))\n",
    "        x = self.fc3(x)\n",
    "        return x"
   ]
  },
  {
   "cell_type": "markdown",
   "metadata": {},
   "source": [
    "## Initialize Model, Loss, Optimizer"
   ]
  },
  {
   "cell_type": "code",
   "execution_count": 6,
   "metadata": {},
   "outputs": [],
   "source": [
    "model = SimpleNN()                     # instantiate the model\n",
    "criterion = nn.CrossEntropyLoss()      # loss function measuring prediction error\n",
    "optimizer = torch.optim.Adam(model.parameters(), lr=learning_rate)  # optimization algorithm\n"
   ]
  },
  {
   "cell_type": "markdown",
   "metadata": {},
   "source": [
    "## Training Loop"
   ]
  },
  {
   "cell_type": "code",
   "execution_count": 7,
   "metadata": {},
   "outputs": [
    {
     "name": "stdout",
     "output_type": "stream",
     "text": [
      "Epoch [1/3], Loss: 0.0672\n",
      "Epoch [2/3], Loss: 0.1778\n",
      "Epoch [3/3], Loss: 0.1387\n"
     ]
    }
   ],
   "source": [
    "for epoch in range(epochs):                 # loop over the dataset multiple times\n",
    "    for images, labels in train_loader:         # iterate over batches\n",
    "        outputs = model(images)      # forward pass, calculates predictions\n",
    "        loss = criterion(outputs, labels)       # compute the loss\n",
    "        optimizer.zero_grad()           # clear previous gradients\n",
    "        loss.backward()                 # backpropagation, compute gradients\n",
    "        optimizer.step()                # update model parameters\n",
    "    print(f\"Epoch [{epoch+1}/{epochs}], Loss: {loss.item():.4f}\")           # print loss after each epoch\n"
   ]
  },
  {
   "cell_type": "markdown",
   "metadata": {},
   "source": [
    "## Evaluate Accuracy"
   ]
  },
  {
   "cell_type": "code",
   "execution_count": 8,
   "metadata": {},
   "outputs": [
    {
     "name": "stdout",
     "output_type": "stream",
     "text": [
      "Accuracy on test set: 96.74%\n"
     ]
    }
   ],
   "source": [
    "# Evaluate on test data\n",
    "model.eval()  # set model to evaluation mode\n",
    "correct = 0\n",
    "total = 0\n",
    "with torch.no_grad():  # no need to calculate gradients\n",
    "    for images, labels in test_loader:\n",
    "        outputs = model(images)\n",
    "        _, predicted = torch.max(outputs.data, 1)  # get predicted class\n",
    "        total += labels.size(0)\n",
    "        correct += (predicted == labels).sum().item()\n",
    "\n",
    "accuracy = 100 * correct / total\n",
    "print(f\"Accuracy on test set: {accuracy:.2f}%\")\n"
   ]
  },
  {
   "cell_type": "code",
   "execution_count": 14,
   "metadata": {},
   "outputs": [],
   "source": [
    "torch.save(model.state_dict(), \"/Users/ahmedsalimkidwai/aws-ml-pipeline/models/simple_mnist.pth\")\n"
   ]
  },
  {
   "cell_type": "code",
   "execution_count": null,
   "metadata": {},
   "outputs": [],
   "source": []
  }
 ],
 "metadata": {
  "kernelspec": {
   "display_name": "awsml",
   "language": "python",
   "name": "python3"
  },
  "language_info": {
   "codemirror_mode": {
    "name": "ipython",
    "version": 3
   },
   "file_extension": ".py",
   "mimetype": "text/x-python",
   "name": "python",
   "nbconvert_exporter": "python",
   "pygments_lexer": "ipython3",
   "version": "3.10.18"
  }
 },
 "nbformat": 4,
 "nbformat_minor": 2
}
